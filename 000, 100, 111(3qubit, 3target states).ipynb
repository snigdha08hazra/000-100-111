{
 "cells": [
  {
   "cell_type": "code",
   "execution_count": 1,
   "id": "0d4902c0",
   "metadata": {},
   "outputs": [],
   "source": [
    "from qiskit.quantum_info import Statevector, Operator\n",
    "from qiskit import QuantumCircuit, Aer, execute"
   ]
  },
  {
   "cell_type": "markdown",
   "id": "b29ef5d7",
   "metadata": {},
   "source": [
    "## Q = HPHO = H (2 |000⟩ ⟨000| - I) H (I - 2|000⟩ ⟨000| - 2 |100⟩ ⟨100| - 2 |111⟩ ⟨111|)"
   ]
  },
  {
   "cell_type": "code",
   "execution_count": 2,
   "id": "372f170b",
   "metadata": {},
   "outputs": [
    {
     "data": {
      "text/plain": [
       "'initialised |ψ0⟩'"
      ]
     },
     "metadata": {},
     "output_type": "display_data"
    },
    {
     "data": {
      "text/latex": [
       "$$ |000\\rangle$$"
      ],
      "text/plain": [
       "<IPython.core.display.Latex object>"
      ]
     },
     "metadata": {},
     "output_type": "display_data"
    },
    {
     "name": "stdout",
     "output_type": "stream",
     "text": [
      "coherence of |ψ0⟩ =  0.0\n"
     ]
    },
    {
     "data": {
      "text/plain": [
       "'applied Hadamard to all |ψ1⟩'"
      ]
     },
     "metadata": {},
     "output_type": "display_data"
    },
    {
     "data": {
      "text/latex": [
       "$$\\frac{\\sqrt{2}}{4} |000\\rangle+\\frac{\\sqrt{2}}{4} |001\\rangle+\\frac{\\sqrt{2}}{4} |010\\rangle+\\frac{\\sqrt{2}}{4} |011\\rangle+\\frac{\\sqrt{2}}{4} |100\\rangle+\\frac{\\sqrt{2}}{4} |101\\rangle+\\frac{\\sqrt{2}}{4} |110\\rangle+\\frac{\\sqrt{2}}{4} |111\\rangle$$"
      ],
      "text/plain": [
       "<IPython.core.display.Latex object>"
      ]
     },
     "metadata": {},
     "output_type": "display_data"
    },
    {
     "name": "stdout",
     "output_type": "stream",
     "text": [
      "coherence of |ψ1⟩ =  7.000000000000001\n",
      "1st ITERATION OF GROVER'S OPERATOR\n"
     ]
    },
    {
     "data": {
      "text/plain": [
       "'applied O operator to all |ψ2⟩'"
      ]
     },
     "metadata": {},
     "output_type": "display_data"
    },
    {
     "data": {
      "text/latex": [
       "$$- \\frac{\\sqrt{2}}{4} |000\\rangle+\\frac{\\sqrt{2}}{4} |001\\rangle+\\frac{\\sqrt{2}}{4} |010\\rangle+\\frac{\\sqrt{2}}{4} |011\\rangle- \\frac{\\sqrt{2}}{4} |100\\rangle+\\frac{\\sqrt{2}}{4} |101\\rangle+\\frac{\\sqrt{2}}{4} |110\\rangle- \\frac{\\sqrt{2}}{4} |111\\rangle$$"
      ],
      "text/plain": [
       "<IPython.core.display.Latex object>"
      ]
     },
     "metadata": {},
     "output_type": "display_data"
    },
    {
     "name": "stdout",
     "output_type": "stream",
     "text": [
      "coherence of |ψ2⟩ =  7.000000000000001\n"
     ]
    },
    {
     "data": {
      "text/plain": [
       "'applied Hadamard to all |ψ3⟩'"
      ]
     },
     "metadata": {},
     "output_type": "display_data"
    },
    {
     "data": {
      "text/latex": [
       "$$\\frac{1}{4} |000\\rangle- \\frac{1}{4} |001\\rangle- \\frac{1}{4} |010\\rangle- \\frac{3}{4} |011\\rangle+\\frac{1}{4} |100\\rangle- \\frac{1}{4} |101\\rangle- \\frac{1}{4} |110\\rangle+\\frac{1}{4} |111\\rangle$$"
      ],
      "text/plain": [
       "<IPython.core.display.Latex object>"
      ]
     },
     "metadata": {},
     "output_type": "display_data"
    },
    {
     "name": "stdout",
     "output_type": "stream",
     "text": [
      "coherence of |ψ3⟩ =  5.250000000000002\n"
     ]
    },
    {
     "data": {
      "text/plain": [
       "'applied P operator to all |ψ4⟩'"
      ]
     },
     "metadata": {},
     "output_type": "display_data"
    },
    {
     "data": {
      "text/latex": [
       "$$\\frac{1}{4} |000\\rangle+\\frac{1}{4} |001\\rangle+\\frac{1}{4} |010\\rangle+\\frac{3}{4} |011\\rangle- \\frac{1}{4} |100\\rangle+\\frac{1}{4} |101\\rangle+\\frac{1}{4} |110\\rangle- \\frac{1}{4} |111\\rangle$$"
      ],
      "text/plain": [
       "<IPython.core.display.Latex object>"
      ]
     },
     "metadata": {},
     "output_type": "display_data"
    },
    {
     "name": "stdout",
     "output_type": "stream",
     "text": [
      "coherence of |ψ4⟩ =  5.250000000000002\n"
     ]
    },
    {
     "data": {
      "text/plain": [
       "'applied Hadamard to all |ψ5⟩'"
      ]
     },
     "metadata": {},
     "output_type": "display_data"
    },
    {
     "data": {
      "text/latex": [
       "$$\\frac{66382848 \\cdot 2^{\\frac{19}{28}} \\cdot 3^{\\frac{5}{7}} \\cdot 5^{\\frac{6}{7}} \\sqrt{7}}{1953125 \\pi^{\\frac{95}{14}}} |000\\rangle- \\frac{3 \\cdot 2^{\\frac{53}{82}} \\cdot 3^{\\frac{73}{82}} \\cdot 5^{\\frac{11}{41}} \\cdot 7^{\\frac{115}{164}}}{2 \\pi^{\\frac{192}{41}}} |001\\rangle- \\frac{3 \\cdot 2^{\\frac{53}{82}} \\cdot 3^{\\frac{73}{82}} \\cdot 5^{\\frac{11}{41}} \\cdot 7^{\\frac{115}{164}}}{2 \\pi^{\\frac{192}{41}}} |010\\rangle- \\frac{3 \\cdot 2^{\\frac{53}{82}} \\cdot 3^{\\frac{73}{82}} \\cdot 5^{\\frac{11}{41}} \\cdot 7^{\\frac{115}{164}}}{2 \\pi^{\\frac{192}{41}}} |011\\rangle+\\frac{66382848 \\cdot 2^{\\frac{19}{28}} \\cdot 3^{\\frac{5}{7}} \\cdot 5^{\\frac{6}{7}} \\sqrt{7}}{1953125 \\pi^{\\frac{95}{14}}} |100\\rangle- \\frac{3 \\cdot 2^{\\frac{53}{82}} \\cdot 3^{\\frac{73}{82}} \\cdot 5^{\\frac{11}{41}} \\cdot 7^{\\frac{115}{164}}}{2 \\pi^{\\frac{192}{41}}} |101\\rangle- \\frac{3 \\cdot 2^{\\frac{53}{82}} \\cdot 3^{\\frac{73}{82}} \\cdot 5^{\\frac{11}{41}} \\cdot 7^{\\frac{115}{164}}}{2 \\pi^{\\frac{192}{41}}} |110\\rangle+\\frac{66382848 \\cdot 2^{\\frac{19}{28}} \\cdot 3^{\\frac{5}{7}} \\cdot 5^{\\frac{6}{7}} \\sqrt{7}}{1953125 \\pi^{\\frac{95}{14}}} |111\\rangle$$"
      ],
      "text/plain": [
       "<IPython.core.display.Latex object>"
      ]
     },
     "metadata": {},
     "output_type": "display_data"
    },
    {
     "name": "stdout",
     "output_type": "stream",
     "text": [
      "coherence of |ψ5⟩ =  5.125000000000002\n",
      "2nd ITERATION OF GROVER'S OPERATOR\n"
     ]
    },
    {
     "data": {
      "text/plain": [
       "'applied O operator to all |ψ2⟩'"
      ]
     },
     "metadata": {},
     "output_type": "display_data"
    },
    {
     "data": {
      "text/latex": [
       "$$- \\frac{66382848 \\cdot 2^{\\frac{19}{28}} \\cdot 3^{\\frac{5}{7}} \\cdot 5^{\\frac{6}{7}} \\sqrt{7}}{1953125 \\pi^{\\frac{95}{14}}} |000\\rangle- \\frac{3 \\cdot 2^{\\frac{53}{82}} \\cdot 3^{\\frac{73}{82}} \\cdot 5^{\\frac{11}{41}} \\cdot 7^{\\frac{115}{164}}}{2 \\pi^{\\frac{192}{41}}} |001\\rangle- \\frac{3 \\cdot 2^{\\frac{53}{82}} \\cdot 3^{\\frac{73}{82}} \\cdot 5^{\\frac{11}{41}} \\cdot 7^{\\frac{115}{164}}}{2 \\pi^{\\frac{192}{41}}} |010\\rangle- \\frac{3 \\cdot 2^{\\frac{53}{82}} \\cdot 3^{\\frac{73}{82}} \\cdot 5^{\\frac{11}{41}} \\cdot 7^{\\frac{115}{164}}}{2 \\pi^{\\frac{192}{41}}} |011\\rangle- \\frac{66382848 \\cdot 2^{\\frac{19}{28}} \\cdot 3^{\\frac{5}{7}} \\cdot 5^{\\frac{6}{7}} \\sqrt{7}}{1953125 \\pi^{\\frac{95}{14}}} |100\\rangle- \\frac{3 \\cdot 2^{\\frac{53}{82}} \\cdot 3^{\\frac{73}{82}} \\cdot 5^{\\frac{11}{41}} \\cdot 7^{\\frac{115}{164}}}{2 \\pi^{\\frac{192}{41}}} |101\\rangle- \\frac{3 \\cdot 2^{\\frac{53}{82}} \\cdot 3^{\\frac{73}{82}} \\cdot 5^{\\frac{11}{41}} \\cdot 7^{\\frac{115}{164}}}{2 \\pi^{\\frac{192}{41}}} |110\\rangle- \\frac{66382848 \\cdot 2^{\\frac{19}{28}} \\cdot 3^{\\frac{5}{7}} \\cdot 5^{\\frac{6}{7}} \\sqrt{7}}{1953125 \\pi^{\\frac{95}{14}}} |111\\rangle$$"
      ],
      "text/plain": [
       "<IPython.core.display.Latex object>"
      ]
     },
     "metadata": {},
     "output_type": "display_data"
    },
    {
     "name": "stdout",
     "output_type": "stream",
     "text": [
      "coherence of |ψ0⟩ =  5.125000000000002\n"
     ]
    },
    {
     "data": {
      "text/plain": [
       "'applied Hadamard to all |ψ3⟩'"
      ]
     },
     "metadata": {},
     "output_type": "display_data"
    },
    {
     "data": {
      "text/latex": [
       "$$- \\frac{7}{8} |000\\rangle- \\frac{1}{8} |001\\rangle- \\frac{1}{8} |010\\rangle- \\frac{3}{8} |011\\rangle+\\frac{1}{8} |100\\rangle- \\frac{1}{8} |101\\rangle- \\frac{1}{8} |110\\rangle+\\frac{1}{8} |111\\rangle$$"
      ],
      "text/plain": [
       "<IPython.core.display.Latex object>"
      ]
     },
     "metadata": {},
     "output_type": "display_data"
    },
    {
     "name": "stdout",
     "output_type": "stream",
     "text": [
      "coherence of |ψ0⟩ =  3.0000000000000027\n"
     ]
    },
    {
     "data": {
      "text/plain": [
       "'applied P operator to all |ψ4⟩'"
      ]
     },
     "metadata": {},
     "output_type": "display_data"
    },
    {
     "data": {
      "text/latex": [
       "$$- \\frac{7}{8} |000\\rangle+\\frac{1}{8} |001\\rangle+\\frac{1}{8} |010\\rangle+\\frac{3}{8} |011\\rangle- \\frac{1}{8} |100\\rangle+\\frac{1}{8} |101\\rangle+\\frac{1}{8} |110\\rangle- \\frac{1}{8} |111\\rangle$$"
      ],
      "text/plain": [
       "<IPython.core.display.Latex object>"
      ]
     },
     "metadata": {},
     "output_type": "display_data"
    },
    {
     "name": "stdout",
     "output_type": "stream",
     "text": [
      "coherence of |ψ0⟩ =  3.0000000000000027\n"
     ]
    },
    {
     "data": {
      "text/plain": [
       "'applied Hadamard to all |ψ5⟩'"
      ]
     },
     "metadata": {},
     "output_type": "display_data"
    },
    {
     "data": {
      "text/latex": [
       "$$- \\frac{3 \\cdot 2^{\\frac{25}{99}} \\cdot 3^{\\frac{4}{9}} \\cdot 5^{\\frac{5}{66}} \\cdot 7^{\\frac{13}{66}}}{25 \\pi^{\\frac{85}{66}}} |000\\rangle- \\frac{2^{\\frac{44}{129}} \\cdot 3^{\\frac{40}{129}} \\cdot 5^{\\frac{71}{258}} \\cdot 7^{\\frac{119}{258}}}{9 \\pi^{\\frac{121}{258}}} |001\\rangle- \\frac{2^{\\frac{44}{129}} \\cdot 3^{\\frac{40}{129}} \\cdot 5^{\\frac{71}{258}} \\cdot 7^{\\frac{119}{258}}}{9 \\pi^{\\frac{121}{258}}} |010\\rangle- \\frac{2^{\\frac{44}{129}} \\cdot 3^{\\frac{40}{129}} \\cdot 5^{\\frac{71}{258}} \\cdot 7^{\\frac{119}{258}}}{9 \\pi^{\\frac{121}{258}}} |011\\rangle- \\frac{3 \\cdot 2^{\\frac{25}{99}} \\cdot 3^{\\frac{4}{9}} \\cdot 5^{\\frac{5}{66}} \\cdot 7^{\\frac{13}{66}}}{25 \\pi^{\\frac{85}{66}}} |100\\rangle- \\frac{2^{\\frac{44}{129}} \\cdot 3^{\\frac{40}{129}} \\cdot 5^{\\frac{71}{258}} \\cdot 7^{\\frac{119}{258}}}{9 \\pi^{\\frac{121}{258}}} |101\\rangle- \\frac{2^{\\frac{44}{129}} \\cdot 3^{\\frac{40}{129}} \\cdot 5^{\\frac{71}{258}} \\cdot 7^{\\frac{119}{258}}}{9 \\pi^{\\frac{121}{258}}} |110\\rangle- \\frac{3 \\cdot 2^{\\frac{25}{99}} \\cdot 3^{\\frac{4}{9}} \\cdot 5^{\\frac{5}{66}} \\cdot 7^{\\frac{13}{66}}}{25 \\pi^{\\frac{85}{66}}} |111\\rangle$$"
      ],
      "text/plain": [
       "<IPython.core.display.Latex object>"
      ]
     },
     "metadata": {},
     "output_type": "display_data"
    },
    {
     "name": "stdout",
     "output_type": "stream",
     "text": [
      "coherence of |ψ0⟩ =  5.125000000000007\n",
      "3rd ITERATION OF GROVER'S OPERATOR\n"
     ]
    },
    {
     "data": {
      "text/plain": [
       "'applied O operator to all |ψ2⟩'"
      ]
     },
     "metadata": {},
     "output_type": "display_data"
    },
    {
     "data": {
      "text/latex": [
       "$$\\frac{3 \\cdot 2^{\\frac{25}{99}} \\cdot 3^{\\frac{4}{9}} \\cdot 5^{\\frac{5}{66}} \\cdot 7^{\\frac{13}{66}}}{25 \\pi^{\\frac{85}{66}}} |000\\rangle- \\frac{2^{\\frac{44}{129}} \\cdot 3^{\\frac{40}{129}} \\cdot 5^{\\frac{71}{258}} \\cdot 7^{\\frac{119}{258}}}{9 \\pi^{\\frac{121}{258}}} |001\\rangle- \\frac{2^{\\frac{44}{129}} \\cdot 3^{\\frac{40}{129}} \\cdot 5^{\\frac{71}{258}} \\cdot 7^{\\frac{119}{258}}}{9 \\pi^{\\frac{121}{258}}} |010\\rangle- \\frac{2^{\\frac{44}{129}} \\cdot 3^{\\frac{40}{129}} \\cdot 5^{\\frac{71}{258}} \\cdot 7^{\\frac{119}{258}}}{9 \\pi^{\\frac{121}{258}}} |011\\rangle+\\frac{3 \\cdot 2^{\\frac{25}{99}} \\cdot 3^{\\frac{4}{9}} \\cdot 5^{\\frac{5}{66}} \\cdot 7^{\\frac{13}{66}}}{25 \\pi^{\\frac{85}{66}}} |100\\rangle- \\frac{2^{\\frac{44}{129}} \\cdot 3^{\\frac{40}{129}} \\cdot 5^{\\frac{71}{258}} \\cdot 7^{\\frac{119}{258}}}{9 \\pi^{\\frac{121}{258}}} |101\\rangle- \\frac{2^{\\frac{44}{129}} \\cdot 3^{\\frac{40}{129}} \\cdot 5^{\\frac{71}{258}} \\cdot 7^{\\frac{119}{258}}}{9 \\pi^{\\frac{121}{258}}} |110\\rangle+\\frac{3 \\cdot 2^{\\frac{25}{99}} \\cdot 3^{\\frac{4}{9}} \\cdot 5^{\\frac{5}{66}} \\cdot 7^{\\frac{13}{66}}}{25 \\pi^{\\frac{85}{66}}} |111\\rangle$$"
      ],
      "text/plain": [
       "<IPython.core.display.Latex object>"
      ]
     },
     "metadata": {},
     "output_type": "display_data"
    },
    {
     "name": "stdout",
     "output_type": "stream",
     "text": [
      "coherence of |ψ0⟩ =  5.125000000000007\n"
     ]
    },
    {
     "data": {
      "text/plain": [
       "'applied Hadamard to all |ψ3⟩'"
      ]
     },
     "metadata": {},
     "output_type": "display_data"
    },
    {
     "data": {
      "text/latex": [
       "$$- \\frac{11}{16} |000\\rangle+\\frac{3}{16} |001\\rangle+\\frac{3}{16} |010\\rangle+\\frac{9}{16} |011\\rangle- \\frac{3}{16} |100\\rangle+\\frac{3}{16} |101\\rangle+\\frac{3}{16} |110\\rangle- \\frac{3}{16} |111\\rangle$$"
      ],
      "text/plain": [
       "<IPython.core.display.Latex object>"
      ]
     },
     "metadata": {},
     "output_type": "display_data"
    },
    {
     "name": "stdout",
     "output_type": "stream",
     "text": [
      "coherence of |ψ0⟩ =  4.640625000000006\n"
     ]
    },
    {
     "data": {
      "text/plain": [
       "'applied P operator to all |ψ4⟩'"
      ]
     },
     "metadata": {},
     "output_type": "display_data"
    },
    {
     "data": {
      "text/latex": [
       "$$- \\frac{11}{16} |000\\rangle- \\frac{3}{16} |001\\rangle- \\frac{3}{16} |010\\rangle- \\frac{9}{16} |011\\rangle+\\frac{3}{16} |100\\rangle- \\frac{3}{16} |101\\rangle- \\frac{3}{16} |110\\rangle+\\frac{3}{16} |111\\rangle$$"
      ],
      "text/plain": [
       "<IPython.core.display.Latex object>"
      ]
     },
     "metadata": {},
     "output_type": "display_data"
    },
    {
     "name": "stdout",
     "output_type": "stream",
     "text": [
      "coherence of |ψ0⟩ =  4.640625000000006\n"
     ]
    },
    {
     "data": {
      "text/plain": [
       "'applied Hadamard to all |ψ5⟩'"
      ]
     },
     "metadata": {},
     "output_type": "display_data"
    },
    {
     "data": {
      "text/latex": [
       "$$-0.574524259714 |000\\rangle- \\frac{125 \\cdot 2^{\\frac{101}{118}} \\cdot 3^{\\frac{31}{118}} \\cdot 5^{\\frac{13}{59}} \\cdot 7^{\\frac{45}{59}}}{5184 \\pi^{\\frac{109}{59}}} |001\\rangle- \\frac{125 \\cdot 2^{\\frac{101}{118}} \\cdot 3^{\\frac{31}{118}} \\cdot 5^{\\frac{13}{59}} \\cdot 7^{\\frac{45}{59}}}{5184 \\pi^{\\frac{109}{59}}} |010\\rangle- \\frac{125 \\cdot 2^{\\frac{101}{118}} \\cdot 3^{\\frac{31}{118}} \\cdot 5^{\\frac{13}{59}} \\cdot 7^{\\frac{45}{59}}}{5184 \\pi^{\\frac{109}{59}}} |011\\rangle-0.574524259714 |100\\rangle- \\frac{125 \\cdot 2^{\\frac{101}{118}} \\cdot 3^{\\frac{31}{118}} \\cdot 5^{\\frac{13}{59}} \\cdot 7^{\\frac{45}{59}}}{5184 \\pi^{\\frac{109}{59}}} |101\\rangle- \\frac{125 \\cdot 2^{\\frac{101}{118}} \\cdot 3^{\\frac{31}{118}} \\cdot 5^{\\frac{13}{59}} \\cdot 7^{\\frac{45}{59}}}{5184 \\pi^{\\frac{109}{59}}} |110\\rangle-0.574524259714 |111\\rangle$$"
      ],
      "text/plain": [
       "<IPython.core.display.Latex object>"
      ]
     },
     "metadata": {},
     "output_type": "display_data"
    },
    {
     "name": "stdout",
     "output_type": "stream",
     "text": [
      "coherence of |ψ0⟩ =  2.7812500000000067\n"
     ]
    },
    {
     "data": {
      "image/png": "[encoded data removed]",
      "text/plain": [
       "<Figure size 1876.11x284.278 with 1 Axes>"
      ]
     },
     "execution_count": 2,
     "metadata": {},
     "output_type": "execute_result"
    }
   ],
   "source": [
    "qc = QuantumCircuit(3)\n",
    "backend = Aer.get_backend('statevector_simulator')\n",
    "result = execute(qc, backend).result()\n",
    "state = result.get_statevector()\n",
    "display(\"initialised |ψ0⟩\", state.draw('latex'))\n",
    "density_operator = state.to_operator()\n",
    "#print(density_operator.data)\n",
    "coherence = 0\n",
    "for i in range(8):\n",
    "    for j in range(8):\n",
    "        if(i != j):\n",
    "            coherence += abs(density_operator.data[i,j])\n",
    "print(\"coherence of |ψ0⟩ = \",coherence)\n",
    "\n",
    "qc.h([0,1,2])\n",
    "result = execute(qc, backend).result()\n",
    "state = result.get_statevector()\n",
    "display(\"applied Hadamard to all |ψ1⟩\", state.draw('latex'))\n",
    "density_operator = state.to_operator()\n",
    "#print(density_operator.data)\n",
    "coherence = 0\n",
    "for i in range(8):\n",
    "    for j in range(8):\n",
    "        if(i != j):\n",
    "            coherence += abs(density_operator.data[i,j])\n",
    "print(\"coherence of |ψ1⟩ = \",coherence)\n",
    "\n",
    "#1st iteration\n",
    "print(\"1st ITERATION OF GROVER'S OPERATOR\")\n",
    "O_operator = Operator([[-1, 0, 0, 0, 0, 0, 0, 0],  #000\n",
    "                       [ 0, 1, 0, 0, 0, 0, 0, 0],  #001\n",
    "                       [ 0, 0, 1, 0, 0, 0, 0, 0],  #010\n",
    "                       [ 0, 0, 0, 1, 0, 0, 0, 0],  #011\n",
    "                       [ 0, 0, 0, 0,-1, 0, 0, 0],  #100\n",
    "                       [ 0, 0, 0, 0, 0, 1, 0, 0],  #101\n",
    "                       [ 0, 0, 0, 0, 0, 0, 1, 0],  #110\n",
    "                       [ 0, 0, 0, 0, 0, 0, 0,-1]]) #111\n",
    "\n",
    "qc.append(O_operator,[0,1,2])\n",
    "result = execute(qc, backend).result()\n",
    "state = result.get_statevector()\n",
    "display(\"applied O operator to all |ψ2⟩\", state.draw('latex'))\n",
    "density_operator = state.to_operator()\n",
    "#print(density_operator.data)\n",
    "coherence = 0\n",
    "for i in range(8):\n",
    "    for j in range(8):\n",
    "        if(i != j):\n",
    "            coherence += abs(density_operator.data[i,j])\n",
    "print(\"coherence of |ψ2⟩ = \",coherence)\n",
    "\n",
    "qc.h([0,1,2])\n",
    "result = execute(qc, backend).result()\n",
    "state = result.get_statevector()\n",
    "display(\"applied Hadamard to all |ψ3⟩\", state.draw('latex'))\n",
    "density_operator = state.to_operator()\n",
    "#print(density_operator.data)\n",
    "coherence = 0\n",
    "for i in range(8):\n",
    "    for j in range(8):\n",
    "        if(i != j):\n",
    "            coherence += abs(density_operator.data[i,j])\n",
    "print(\"coherence of |ψ3⟩ = \",coherence)\n",
    "\n",
    "P_operator = Operator([[ 1, 0, 0, 0, 0, 0, 0, 0],\n",
    "                       [ 0,-1, 0, 0, 0, 0, 0, 0],\n",
    "                       [ 0, 0,-1, 0, 0, 0, 0, 0],\n",
    "                       [ 0, 0, 0,-1, 0, 0, 0, 0],\n",
    "                       [ 0, 0, 0, 0,-1, 0, 0, 0],\n",
    "                       [ 0, 0, 0, 0, 0,-1, 0, 0],\n",
    "                       [ 0, 0, 0, 0, 0, 0,-1, 0],\n",
    "                       [ 0, 0, 0, 0, 0, 0, 0,-1]])\n",
    "qc.append(P_operator,[0,1,2])\n",
    "result = execute(qc, backend).result()\n",
    "state = result.get_statevector()\n",
    "display(\"applied P operator to all |ψ4⟩\", state.draw('latex'))\n",
    "density_operator = state.to_operator()\n",
    "#print(density_operator.data)\n",
    "coherence = 0\n",
    "for i in range(8):\n",
    "    for j in range(8):\n",
    "        if(i != j):\n",
    "            coherence += abs(density_operator.data[i,j])\n",
    "print(\"coherence of |ψ4⟩ = \",coherence)\n",
    "\n",
    "qc.h([0,1,2])\n",
    "result = execute(qc, backend).result()\n",
    "state = result.get_statevector()\n",
    "display(\"applied Hadamard to all |ψ5⟩\", state.draw('latex'))\n",
    "density_operator = state.to_operator()\n",
    "#print(density_operator.data)\n",
    "coherence = 0\n",
    "for i in range(8):\n",
    "    for j in range(8):\n",
    "        if(i != j):\n",
    "            coherence += abs(density_operator.data[i,j])\n",
    "print(\"coherence of |ψ5⟩ = \",coherence)\n",
    "\n",
    "#2nd iteration\n",
    "print(\"2nd ITERATION OF GROVER'S OPERATOR\")\n",
    "qc.barrier()\n",
    "O_operator = Operator([[-1, 0, 0, 0, 0, 0, 0, 0],  #000\n",
    "                       [ 0, 1, 0, 0, 0, 0, 0, 0],  #001\n",
    "                       [ 0, 0, 1, 0, 0, 0, 0, 0],  #010\n",
    "                       [ 0, 0, 0, 1, 0, 0, 0, 0],  #011\n",
    "                       [ 0, 0, 0, 0,-1, 0, 0, 0],  #100\n",
    "                       [ 0, 0, 0, 0, 0, 1, 0, 0],  #101\n",
    "                       [ 0, 0, 0, 0, 0, 0, 1, 0],  #110\n",
    "                       [ 0, 0, 0, 0, 0, 0, 0,-1]]) #110\n",
    "qc.append(O_operator,[0,1,2])\n",
    "result = execute(qc, backend).result()\n",
    "state = result.get_statevector()\n",
    "display(\"applied O operator to all |ψ2⟩\", state.draw('latex'))\n",
    "density_operator = state.to_operator()\n",
    "#print(density_operator.data)\n",
    "coherence = 0\n",
    "for i in range(8):\n",
    "    for j in range(8):\n",
    "        if(i != j):\n",
    "            coherence += abs(density_operator.data[i,j])\n",
    "print(\"coherence of |ψ0⟩ = \",coherence)\n",
    "\n",
    "qc.h([0,1,2])\n",
    "result = execute(qc, backend).result()\n",
    "state = result.get_statevector()\n",
    "display(\"applied Hadamard to all |ψ3⟩\", state.draw('latex'))\n",
    "density_operator = state.to_operator()\n",
    "#print(density_operator.data)\n",
    "coherence = 0\n",
    "for i in range(8):\n",
    "    for j in range(8):\n",
    "        if(i != j):\n",
    "            coherence += abs(density_operator.data[i,j])\n",
    "print(\"coherence of |ψ0⟩ = \",coherence)\n",
    "\n",
    "P_operator = Operator([[ 1, 0, 0, 0, 0, 0, 0, 0],\n",
    "                       [ 0,-1, 0, 0, 0, 0, 0, 0],\n",
    "                       [ 0, 0,-1, 0, 0, 0, 0, 0],\n",
    "                       [ 0, 0, 0,-1, 0, 0, 0, 0],\n",
    "                       [ 0, 0, 0, 0,-1, 0, 0, 0],\n",
    "                       [ 0, 0, 0, 0, 0,-1, 0, 0],\n",
    "                       [ 0, 0, 0, 0, 0, 0,-1, 0],\n",
    "                       [ 0, 0, 0, 0, 0, 0, 0,-1]])\n",
    "qc.append(P_operator,[0,1,2])\n",
    "result = execute(qc, backend).result()\n",
    "state = result.get_statevector()\n",
    "display(\"applied P operator to all |ψ4⟩\", state.draw('latex'))\n",
    "density_operator = state.to_operator()\n",
    "#print(density_operator.data)\n",
    "coherence = 0\n",
    "for i in range(8):\n",
    "    for j in range(8):\n",
    "        if(i != j):\n",
    "            coherence += abs(density_operator.data[i,j])\n",
    "print(\"coherence of |ψ0⟩ = \",coherence)\n",
    "\n",
    "qc.h([0,1,2])\n",
    "result = execute(qc, backend).result()\n",
    "state = result.get_statevector()\n",
    "display(\"applied Hadamard to all |ψ5⟩\", state.draw('latex'))\n",
    "density_operator = state.to_operator()\n",
    "#print(density_operator.data)\n",
    "coherence = 0\n",
    "for i in range(8):\n",
    "    for j in range(8):\n",
    "        if(i != j):\n",
    "            coherence += abs(density_operator.data[i,j])\n",
    "print(\"coherence of |ψ0⟩ = \",coherence)\n",
    "\n",
    "#3rd iteration\n",
    "print(\"3rd ITERATION OF GROVER'S OPERATOR\")\n",
    "qc.barrier()\n",
    "O_operator = Operator([[-1, 0, 0, 0, 0, 0, 0, 0],  #000\n",
    "                       [ 0, 1, 0, 0, 0, 0, 0, 0],  #001\n",
    "                       [ 0, 0, 1, 0, 0, 0, 0, 0],  #010\n",
    "                       [ 0, 0, 0, 1, 0, 0, 0, 0],  #011\n",
    "                       [ 0, 0, 0, 0,-1, 0, 0, 0],  #100\n",
    "                       [ 0, 0, 0, 0, 0, 1, 0, 0],  #101\n",
    "                       [ 0, 0, 0, 0, 0, 0, 1, 0],  #110\n",
    "                       [ 0, 0, 0, 0, 0, 0, 0,-1]]) #111\n",
    "qc.append(O_operator,[0,1,2])\n",
    "result = execute(qc, backend).result()\n",
    "state = result.get_statevector()\n",
    "display(\"applied O operator to all |ψ2⟩\", state.draw('latex'))\n",
    "density_operator = state.to_operator()\n",
    "#print(density_operator.data)\n",
    "coherence = 0\n",
    "for i in range(8):\n",
    "    for j in range(8):\n",
    "        if(i != j):\n",
    "            coherence += abs(density_operator.data[i,j])\n",
    "print(\"coherence of |ψ0⟩ = \",coherence)\n",
    "\n",
    "qc.h([0,1,2])\n",
    "result = execute(qc, backend).result()\n",
    "state = result.get_statevector()\n",
    "display(\"applied Hadamard to all |ψ3⟩\", state.draw('latex'))\n",
    "density_operator = state.to_operator()\n",
    "#print(density_operator.data)\n",
    "coherence = 0\n",
    "for i in range(8):\n",
    "    for j in range(8):\n",
    "        if(i != j):\n",
    "            coherence += abs(density_operator.data[i,j])\n",
    "print(\"coherence of |ψ0⟩ = \",coherence)\n",
    "\n",
    "P_operator = Operator([[ 1, 0, 0, 0, 0, 0, 0, 0],\n",
    "                       [ 0,-1, 0, 0, 0, 0, 0, 0],\n",
    "                       [ 0, 0,-1, 0, 0, 0, 0, 0],\n",
    "                       [ 0, 0, 0,-1, 0, 0, 0, 0],\n",
    "                       [ 0, 0, 0, 0,-1, 0, 0, 0],\n",
    "                       [ 0, 0, 0, 0, 0,-1, 0, 0],\n",
    "                       [ 0, 0, 0, 0, 0, 0,-1, 0],\n",
    "                       [ 0, 0, 0, 0, 0, 0, 0,-1]])\n",
    "qc.append(P_operator,[0,1,2])\n",
    "result = execute(qc, backend).result()\n",
    "state = result.get_statevector()\n",
    "display(\"applied P operator to all |ψ4⟩\", state.draw('latex'))\n",
    "density_operator = state.to_operator()\n",
    "#print(density_operator.data)\n",
    "coherence = 0\n",
    "for i in range(8):\n",
    "    for j in range(8):\n",
    "        if(i != j):\n",
    "            coherence += abs(density_operator.data[i,j])\n",
    "print(\"coherence of |ψ0⟩ = \",coherence)\n",
    "\n",
    "qc.h([0,1,2])\n",
    "result = execute(qc, backend).result()\n",
    "state = result.get_statevector()\n",
    "display(\"applied Hadamard to all |ψ5⟩\", state.draw('latex'))\n",
    "density_operator = state.to_operator()\n",
    "#print(density_operator.data)\n",
    "coherence = 0\n",
    "for i in range(8):\n",
    "    for j in range(8):\n",
    "        if(i != j):\n",
    "            coherence += abs(density_operator.data[i,j])\n",
    "print(\"coherence of |ψ0⟩ = \",coherence)\n",
    "'''\n",
    "#4th iteration\n",
    "print(\"4th ITERATION OF GROVER'S OPERATOR\")\n",
    "qc.barrier()\n",
    "O_operator = Operator([[-1, 0, 0, 0, 0, 0, 0, 0],  #000\n",
    "                       [ 0,-1, 0, 0, 0, 0, 0, 0],  #001\n",
    "                       [ 0, 0,-1, 0, 0, 0, 0, 0],  #010\n",
    "                       [ 0, 0, 0, 1, 0, 0, 0, 0],  #011\n",
    "                       [ 0, 0, 0, 0, 1, 0, 0, 0],  #100\n",
    "                       [ 0, 0, 0, 0, 0, 1, 0, 0],  #101\n",
    "                       [ 0, 0, 0, 0, 0, 0, 1, 0],  #110\n",
    "                       [ 0, 0, 0, 0, 0, 0, 0, 1]]) #111\n",
    "qc.append(O_operator,[0,1,2])\n",
    "result = execute(qc, backend).result()\n",
    "state = result.get_statevector()\n",
    "display(\"applied O operator to all |ψ2⟩\", state.draw('latex'))\n",
    "density_operator = state.to_operator()\n",
    "#print(density_operator.data)\n",
    "coherence = 0\n",
    "for i in range(8):\n",
    "    for j in range(8):\n",
    "        if(i != j):\n",
    "            coherence += abs(density_operator.data[i,j])\n",
    "print(\"coherence of |ψ0⟩ = \",coherence)\n",
    "\n",
    "qc.h([0,1,2])\n",
    "result = execute(qc, backend).result()\n",
    "state = result.get_statevector()\n",
    "display(\"applied Hadamard to all |ψ3⟩\", state.draw('latex'))\n",
    "density_operator = state.to_operator()\n",
    "#print(density_operator.data)\n",
    "coherence = 0\n",
    "for i in range(8):\n",
    "    for j in range(8):\n",
    "        if(i != j):\n",
    "            coherence += abs(density_operator.data[i,j])\n",
    "print(\"coherence of |ψ0⟩ = \",coherence)\n",
    "\n",
    "P_operator = Operator([[ 1, 0, 0, 0, 0, 0, 0, 0],\n",
    "                       [ 0,-1, 0, 0, 0, 0, 0, 0],\n",
    "                       [ 0, 0,-1, 0, 0, 0, 0, 0],\n",
    "                       [ 0, 0, 0,-1, 0, 0, 0, 0],\n",
    "                       [ 0, 0, 0, 0,-1, 0, 0, 0],\n",
    "                       [ 0, 0, 0, 0, 0,-1, 0, 0],\n",
    "                       [ 0, 0, 0, 0, 0, 0,-1, 0],\n",
    "                       [ 0, 0, 0, 0, 0, 0, 0,-1]])\n",
    "qc.append(P_operator,[0,1,2])\n",
    "result = execute(qc, backend).result()\n",
    "state = result.get_statevector()\n",
    "display(\"applied P operator to all |ψ4⟩\", state.draw('latex'))\n",
    "density_operator = state.to_operator()\n",
    "#print(density_operator.data)\n",
    "coherence = 0\n",
    "for i in range(8):\n",
    "    for j in range(8):\n",
    "        if(i != j):\n",
    "            coherence += abs(density_operator.data[i,j])\n",
    "print(\"coherence of |ψ0⟩ = \",coherence)\n",
    "\n",
    "qc.h([0,1,2])\n",
    "result = execute(qc, backend).result()\n",
    "state = result.get_statevector()\n",
    "display(\"applied Hadamard to all |ψ5⟩\", state.draw('latex'))\n",
    "density_operator = state.to_operator()\n",
    "#print(density_operator.data)\n",
    "coherence = 0\n",
    "for i in range(8):\n",
    "    for j in range(8):\n",
    "        if(i != j):\n",
    "            coherence += abs(density_operator.data[i,j])\n",
    "print(\"coherence of |ψ0⟩ = \",coherence)\n",
    "'''\n",
    "qc.draw('mpl')"
   ]
  },
  {
   "cell_type": "markdown",
   "id": "e270f295",
   "metadata": {},
   "source": [
    "### G = DO = (2 |ψ1⟩ ⟨ψ1| - I) (I - 2 |000⟩⟨000| - 2 |100⟩⟨100| - 2 |111⟩⟨111|)"
   ]
  },
  {
   "cell_type": "code",
   "execution_count": 3,
   "id": "a77feaf1",
   "metadata": {},
   "outputs": [
    {
     "data": {
      "text/plain": [
       "'initialised |ψ0⟩'"
      ]
     },
     "metadata": {},
     "output_type": "display_data"
    },
    {
     "data": {
      "text/latex": [
       "$$ |000\\rangle$$"
      ],
      "text/plain": [
       "<IPython.core.display.Latex object>"
      ]
     },
     "metadata": {},
     "output_type": "display_data"
    },
    {
     "name": "stdout",
     "output_type": "stream",
     "text": [
      "coherence of |ψ0⟩ =  0.0\n"
     ]
    },
    {
     "data": {
      "text/plain": [
       "'applied Hadamard to all |ψ1⟩'"
      ]
     },
     "metadata": {},
     "output_type": "display_data"
    },
    {
     "data": {
      "text/latex": [
       "$$\\frac{\\sqrt{2}}{4} |000\\rangle+\\frac{\\sqrt{2}}{4} |001\\rangle+\\frac{\\sqrt{2}}{4} |010\\rangle+\\frac{\\sqrt{2}}{4} |011\\rangle+\\frac{\\sqrt{2}}{4} |100\\rangle+\\frac{\\sqrt{2}}{4} |101\\rangle+\\frac{\\sqrt{2}}{4} |110\\rangle+\\frac{\\sqrt{2}}{4} |111\\rangle$$"
      ],
      "text/plain": [
       "<IPython.core.display.Latex object>"
      ]
     },
     "metadata": {},
     "output_type": "display_data"
    },
    {
     "name": "stdout",
     "output_type": "stream",
     "text": [
      "coherence of |ψ1⟩ =  7.000000000000001\n",
      "1st GROVER ITERATION\n"
     ]
    },
    {
     "data": {
      "text/plain": [
       "'applied O operator to all |ψ2⟩'"
      ]
     },
     "metadata": {},
     "output_type": "display_data"
    },
    {
     "data": {
      "text/latex": [
       "$$- \\frac{\\sqrt{2}}{4} |000\\rangle- \\frac{\\sqrt{2}}{4} |001\\rangle- \\frac{\\sqrt{2}}{4} |010\\rangle+\\frac{\\sqrt{2}}{4} |011\\rangle+\\frac{\\sqrt{2}}{4} |100\\rangle+\\frac{\\sqrt{2}}{4} |101\\rangle+\\frac{\\sqrt{2}}{4} |110\\rangle+\\frac{\\sqrt{2}}{4} |111\\rangle$$"
      ],
      "text/plain": [
       "<IPython.core.display.Latex object>"
      ]
     },
     "metadata": {},
     "output_type": "display_data"
    },
    {
     "name": "stdout",
     "output_type": "stream",
     "text": [
      "coherence of |ψ2⟩ =  7.000000000000001\n"
     ]
    },
    {
     "data": {
      "text/plain": [
       "'applied D operator to all |ψ5⟩'"
      ]
     },
     "metadata": {},
     "output_type": "display_data"
    },
    {
     "data": {
      "text/latex": [
       "$$\\frac{66382848 \\cdot 2^{\\frac{19}{28}} \\cdot 3^{\\frac{5}{7}} \\cdot 5^{\\frac{6}{7}} \\sqrt{7}}{1953125 \\pi^{\\frac{95}{14}}} |000\\rangle+\\frac{66382848 \\cdot 2^{\\frac{19}{28}} \\cdot 3^{\\frac{5}{7}} \\cdot 5^{\\frac{6}{7}} \\sqrt{7}}{1953125 \\pi^{\\frac{95}{14}}} |001\\rangle+\\frac{66382848 \\cdot 2^{\\frac{19}{28}} \\cdot 3^{\\frac{5}{7}} \\cdot 5^{\\frac{6}{7}} \\sqrt{7}}{1953125 \\pi^{\\frac{95}{14}}} |010\\rangle- \\frac{3 \\cdot 2^{\\frac{53}{82}} \\cdot 3^{\\frac{73}{82}} \\cdot 5^{\\frac{11}{41}} \\cdot 7^{\\frac{115}{164}}}{2 \\pi^{\\frac{192}{41}}} |011\\rangle- \\frac{3 \\cdot 2^{\\frac{53}{82}} \\cdot 3^{\\frac{73}{82}} \\cdot 5^{\\frac{11}{41}} \\cdot 7^{\\frac{115}{164}}}{2 \\pi^{\\frac{192}{41}}} |100\\rangle- \\frac{3 \\cdot 2^{\\frac{53}{82}} \\cdot 3^{\\frac{73}{82}} \\cdot 5^{\\frac{11}{41}} \\cdot 7^{\\frac{115}{164}}}{2 \\pi^{\\frac{192}{41}}} |101\\rangle- \\frac{3 \\cdot 2^{\\frac{53}{82}} \\cdot 3^{\\frac{73}{82}} \\cdot 5^{\\frac{11}{41}} \\cdot 7^{\\frac{115}{164}}}{2 \\pi^{\\frac{192}{41}}} |110\\rangle- \\frac{3 \\cdot 2^{\\frac{53}{82}} \\cdot 3^{\\frac{73}{82}} \\cdot 5^{\\frac{11}{41}} \\cdot 7^{\\frac{115}{164}}}{2 \\pi^{\\frac{192}{41}}} |111\\rangle$$"
      ],
      "text/plain": [
       "<IPython.core.display.Latex object>"
      ]
     },
     "metadata": {},
     "output_type": "display_data"
    },
    {
     "name": "stdout",
     "output_type": "stream",
     "text": [
      "coherence of |ψ5⟩ =  5.125000000000001\n",
      "2nd GROVER ITERATION\n"
     ]
    },
    {
     "data": {
      "text/plain": [
       "'applied O operator to all |ψ2⟩'"
      ]
     },
     "metadata": {},
     "output_type": "display_data"
    },
    {
     "data": {
      "text/latex": [
       "$$- \\frac{66382848 \\cdot 2^{\\frac{19}{28}} \\cdot 3^{\\frac{5}{7}} \\cdot 5^{\\frac{6}{7}} \\sqrt{7}}{1953125 \\pi^{\\frac{95}{14}}} |000\\rangle- \\frac{66382848 \\cdot 2^{\\frac{19}{28}} \\cdot 3^{\\frac{5}{7}} \\cdot 5^{\\frac{6}{7}} \\sqrt{7}}{1953125 \\pi^{\\frac{95}{14}}} |001\\rangle- \\frac{66382848 \\cdot 2^{\\frac{19}{28}} \\cdot 3^{\\frac{5}{7}} \\cdot 5^{\\frac{6}{7}} \\sqrt{7}}{1953125 \\pi^{\\frac{95}{14}}} |010\\rangle- \\frac{3 \\cdot 2^{\\frac{53}{82}} \\cdot 3^{\\frac{73}{82}} \\cdot 5^{\\frac{11}{41}} \\cdot 7^{\\frac{115}{164}}}{2 \\pi^{\\frac{192}{41}}} |011\\rangle- \\frac{3 \\cdot 2^{\\frac{53}{82}} \\cdot 3^{\\frac{73}{82}} \\cdot 5^{\\frac{11}{41}} \\cdot 7^{\\frac{115}{164}}}{2 \\pi^{\\frac{192}{41}}} |100\\rangle- \\frac{3 \\cdot 2^{\\frac{53}{82}} \\cdot 3^{\\frac{73}{82}} \\cdot 5^{\\frac{11}{41}} \\cdot 7^{\\frac{115}{164}}}{2 \\pi^{\\frac{192}{41}}} |101\\rangle- \\frac{3 \\cdot 2^{\\frac{53}{82}} \\cdot 3^{\\frac{73}{82}} \\cdot 5^{\\frac{11}{41}} \\cdot 7^{\\frac{115}{164}}}{2 \\pi^{\\frac{192}{41}}} |110\\rangle- \\frac{3 \\cdot 2^{\\frac{53}{82}} \\cdot 3^{\\frac{73}{82}} \\cdot 5^{\\frac{11}{41}} \\cdot 7^{\\frac{115}{164}}}{2 \\pi^{\\frac{192}{41}}} |111\\rangle$$"
      ],
      "text/plain": [
       "<IPython.core.display.Latex object>"
      ]
     },
     "metadata": {},
     "output_type": "display_data"
    },
    {
     "name": "stdout",
     "output_type": "stream",
     "text": [
      "coherence of |ψ2⟩ =  5.125000000000001\n"
     ]
    },
    {
     "data": {
      "text/plain": [
       "'applied D operator to all |ψ5⟩'"
      ]
     },
     "metadata": {},
     "output_type": "display_data"
    },
    {
     "data": {
      "text/latex": [
       "$$- \\frac{3 \\cdot 2^{\\frac{25}{99}} \\cdot 3^{\\frac{4}{9}} \\cdot 5^{\\frac{5}{66}} \\cdot 7^{\\frac{13}{66}}}{25 \\pi^{\\frac{85}{66}}} |000\\rangle- \\frac{3 \\cdot 2^{\\frac{25}{99}} \\cdot 3^{\\frac{4}{9}} \\cdot 5^{\\frac{5}{66}} \\cdot 7^{\\frac{13}{66}}}{25 \\pi^{\\frac{85}{66}}} |001\\rangle- \\frac{3 \\cdot 2^{\\frac{25}{99}} \\cdot 3^{\\frac{4}{9}} \\cdot 5^{\\frac{5}{66}} \\cdot 7^{\\frac{13}{66}}}{25 \\pi^{\\frac{85}{66}}} |010\\rangle- \\frac{2^{\\frac{44}{129}} \\cdot 3^{\\frac{40}{129}} \\cdot 5^{\\frac{71}{258}} \\cdot 7^{\\frac{119}{258}}}{9 \\pi^{\\frac{121}{258}}} |011\\rangle- \\frac{2^{\\frac{44}{129}} \\cdot 3^{\\frac{40}{129}} \\cdot 5^{\\frac{71}{258}} \\cdot 7^{\\frac{119}{258}}}{9 \\pi^{\\frac{121}{258}}} |100\\rangle- \\frac{2^{\\frac{44}{129}} \\cdot 3^{\\frac{40}{129}} \\cdot 5^{\\frac{71}{258}} \\cdot 7^{\\frac{119}{258}}}{9 \\pi^{\\frac{121}{258}}} |101\\rangle- \\frac{2^{\\frac{44}{129}} \\cdot 3^{\\frac{40}{129}} \\cdot 5^{\\frac{71}{258}} \\cdot 7^{\\frac{119}{258}}}{9 \\pi^{\\frac{121}{258}}} |110\\rangle- \\frac{2^{\\frac{44}{129}} \\cdot 3^{\\frac{40}{129}} \\cdot 5^{\\frac{71}{258}} \\cdot 7^{\\frac{119}{258}}}{9 \\pi^{\\frac{121}{258}}} |111\\rangle$$"
      ],
      "text/plain": [
       "<IPython.core.display.Latex object>"
      ]
     },
     "metadata": {},
     "output_type": "display_data"
    },
    {
     "name": "stdout",
     "output_type": "stream",
     "text": [
      "coherence of |ψ5⟩ =  5.125000000000002\n"
     ]
    },
    {
     "data": {
      "image/png": "[encoded data removed]",
      "text/plain": [
       "<Figure size 956.385x284.278 with 1 Axes>"
      ]
     },
     "execution_count": 3,
     "metadata": {},
     "output_type": "execute_result"
    }
   ],
   "source": [
    "qc = QuantumCircuit(3)\n",
    "backend = Aer.get_backend('statevector_simulator')\n",
    "result = execute(qc, backend).result()\n",
    "state = result.get_statevector()\n",
    "display(\"initialised |ψ0⟩\", state.draw('latex'))\n",
    "density_operator = state.to_operator()\n",
    "#print(density_operator.data)\n",
    "coherence = 0\n",
    "for i in range(8):\n",
    "    for j in range(8):\n",
    "        if(i != j):\n",
    "            coherence += abs(density_operator.data[i,j])\n",
    "print(\"coherence of |ψ0⟩ = \",coherence)\n",
    "\n",
    "qc.h([0,1,2])\n",
    "result = execute(qc, backend).result()\n",
    "state = result.get_statevector()\n",
    "display(\"applied Hadamard to all |ψ1⟩\", state.draw('latex'))\n",
    "density_operator = state.to_operator()\n",
    "#print(density_operator.data)\n",
    "coherence = 0\n",
    "for i in range(8):\n",
    "    for j in range(8):\n",
    "        if(i != j):\n",
    "            coherence += abs(density_operator.data[i,j])\n",
    "print(\"coherence of |ψ1⟩ = \",coherence)\n",
    "\n",
    "print(\"1st GROVER ITERATION\")\n",
    "O_operator = Operator([[-1, 0, 0, 0, 0, 0, 0, 0],\n",
    "                       [ 0,-1, 0, 0, 0, 0, 0, 0],\n",
    "                       [ 0, 0,-1, 0, 0, 0, 0, 0],\n",
    "                       [ 0, 0, 0, 1, 0, 0, 0, 0],\n",
    "                       [ 0, 0, 0, 0, 1, 0, 0, 0],\n",
    "                       [ 0, 0, 0, 0, 0, 1, 0, 0],\n",
    "                       [ 0, 0, 0, 0, 0, 0, 1, 0],\n",
    "                       [ 0, 0, 0, 0, 0, 0, 0, 1]])\n",
    "qc.append(O_operator,[0,1,2])\n",
    "result = execute(qc, backend).result()\n",
    "state = result.get_statevector()\n",
    "display(\"applied O operator to all |ψ2⟩\", state.draw('latex'))\n",
    "density_operator = state.to_operator()\n",
    "#print(density_operator.data)\n",
    "coherence = 0\n",
    "for i in range(8):\n",
    "    for j in range(8):\n",
    "        if(i != j):\n",
    "            coherence += abs(density_operator.data[i,j])\n",
    "print(\"coherence of |ψ2⟩ = \",coherence)\n",
    "\n",
    "D_operator = Operator([[-3/4, 1/4, 1/4, 1/4, 1/4, 1/4, 1/4, 1/4],\n",
    "                       [ 1/4,-3/4, 1/4, 1/4, 1/4, 1/4, 1/4, 1/4],\n",
    "                       [ 1/4, 1/4,-3/4, 1/4, 1/4, 1/4, 1/4, 1/4],\n",
    "                       [ 1/4, 1/4, 1/4,-3/4, 1/4, 1/4, 1/4, 1/4],\n",
    "                       [ 1/4, 1/4, 1/4, 1/4,-3/4, 1/4, 1/4, 1/4],\n",
    "                       [ 1/4, 1/4, 1/4, 1/4, 1/4,-3/4, 1/4, 1/4],\n",
    "                       [ 1/4, 1/4, 1/4, 1/4, 1/4, 1/4,-3/4, 1/4],\n",
    "                       [ 1/4, 1/4, 1/4, 1/4, 1/4, 1/4, 1/4,-3/4]])\n",
    "qc.append(D_operator,[0,1,2])\n",
    "result = execute(qc, backend).result()\n",
    "state = result.get_statevector()\n",
    "display(\"applied D operator to all |ψ5⟩\", state.draw('latex'))\n",
    "density_operator = state.to_operator()\n",
    "#print(density_operator.data)\n",
    "coherence = 0\n",
    "for i in range(8):\n",
    "    for j in range(8):\n",
    "        if(i != j):\n",
    "            coherence += abs(density_operator.data[i,j])\n",
    "print(\"coherence of |ψ5⟩ = \",coherence)\n",
    "\n",
    "print(\"2nd GROVER ITERATION\")\n",
    "qc.barrier()\n",
    "O_operator = Operator([[-1, 0, 0, 0, 0, 0, 0, 0],\n",
    "                       [ 0,-1, 0, 0, 0, 0, 0, 0],\n",
    "                       [ 0, 0,-1, 0, 0, 0, 0, 0],\n",
    "                       [ 0, 0, 0, 1, 0, 0, 0, 0],\n",
    "                       [ 0, 0, 0, 0, 1, 0, 0, 0],\n",
    "                       [ 0, 0, 0, 0, 0, 1, 0, 0],\n",
    "                       [ 0, 0, 0, 0, 0, 0, 1, 0],\n",
    "                       [ 0, 0, 0, 0, 0, 0, 0, 1]])\n",
    "qc.append(O_operator,[0,1,2])\n",
    "result = execute(qc, backend).result()\n",
    "state = result.get_statevector()\n",
    "display(\"applied O operator to all |ψ2⟩\", state.draw('latex'))\n",
    "density_operator = state.to_operator()\n",
    "#print(density_operator.data)\n",
    "coherence = 0\n",
    "for i in range(8):\n",
    "    for j in range(8):\n",
    "        if(i != j):\n",
    "            coherence += abs(density_operator.data[i,j])\n",
    "print(\"coherence of |ψ2⟩ = \",coherence)\n",
    "\n",
    "D_operator = Operator([[-3/4, 1/4, 1/4, 1/4, 1/4, 1/4, 1/4, 1/4],\n",
    "                       [ 1/4,-3/4, 1/4, 1/4, 1/4, 1/4, 1/4, 1/4],\n",
    "                       [ 1/4, 1/4,-3/4, 1/4, 1/4, 1/4, 1/4, 1/4],\n",
    "                       [ 1/4, 1/4, 1/4,-3/4, 1/4, 1/4, 1/4, 1/4],\n",
    "                       [ 1/4, 1/4, 1/4, 1/4,-3/4, 1/4, 1/4, 1/4],\n",
    "                       [ 1/4, 1/4, 1/4, 1/4, 1/4,-3/4, 1/4, 1/4],\n",
    "                       [ 1/4, 1/4, 1/4, 1/4, 1/4, 1/4,-3/4, 1/4],\n",
    "                       [ 1/4, 1/4, 1/4, 1/4, 1/4, 1/4, 1/4,-3/4]])\n",
    "qc.append(D_operator,[0,1,2])\n",
    "result = execute(qc, backend).result()\n",
    "state = result.get_statevector()\n",
    "display(\"applied D operator to all |ψ5⟩\", state.draw('latex'))\n",
    "density_operator = state.to_operator()\n",
    "#print(density_operator.data)\n",
    "coherence = 0\n",
    "for i in range(8):\n",
    "    for j in range(8):\n",
    "        if(i != j):\n",
    "            coherence += abs(density_operator.data[i,j])\n",
    "print(\"coherence of |ψ5⟩ = \",coherence)\n",
    "'''\n",
    "print(\"3rd GROVER ITERATION\")\n",
    "qc.barrier()\n",
    "O_operator = Operator([[-1, 0, 0, 0, 0, 0, 0, 0],\n",
    "                       [ 0,-1, 0, 0, 0, 0, 0, 0],\n",
    "                       [ 0, 0,-1, 0, 0, 0, 0, 0],\n",
    "                       [ 0, 0, 0, 1, 0, 0, 0, 0],\n",
    "                       [ 0, 0, 0, 0, 1, 0, 0, 0],\n",
    "                       [ 0, 0, 0, 0, 0, 1, 0, 0],\n",
    "                       [ 0, 0, 0, 0, 0, 0, 1, 0],\n",
    "                       [ 0, 0, 0, 0, 0, 0, 0, 1]])\n",
    "\n",
    "qc.append(O_operator,[0,1,2])\n",
    "result = execute(qc, backend).result()\n",
    "state = result.get_statevector()\n",
    "display(\"applied O operator to all |ψ2⟩\", state.draw('latex'))\n",
    "density_operator = state.to_operator()\n",
    "#print(density_operator.data)\n",
    "coherence = 0\n",
    "for i in range(8):\n",
    "    for j in range(8):\n",
    "        if(i != j):\n",
    "            coherence += abs(density_operator.data[i,j])\n",
    "print(\"coherence of |ψ2⟩ = \",coherence)\n",
    "\n",
    "D_operator = Operator([[-3/4, 1/4, 1/4, 1/4, 1/4, 1/4, 1/4, 1/4],\n",
    "                       [ 1/4,-3/4, 1/4, 1/4, 1/4, 1/4, 1/4, 1/4],\n",
    "                       [ 1/4, 1/4,-3/4, 1/4, 1/4, 1/4, 1/4, 1/4],\n",
    "                       [ 1/4, 1/4, 1/4,-3/4, 1/4, 1/4, 1/4, 1/4],\n",
    "                       [ 1/4, 1/4, 1/4, 1/4,-3/4, 1/4, 1/4, 1/4],\n",
    "                       [ 1/4, 1/4, 1/4, 1/4, 1/4,-3/4, 1/4, 1/4],\n",
    "                       [ 1/4, 1/4, 1/4, 1/4, 1/4, 1/4,-3/4, 1/4],\n",
    "                       [ 1/4, 1/4, 1/4, 1/4, 1/4, 1/4, 1/4,-3/4]])\n",
    "qc.append(D_operator,[0,1,2])\n",
    "result = execute(qc, backend).result()\n",
    "state = result.get_statevector()\n",
    "display(\"applied D operator to all |ψ5⟩\", state.draw('latex'))\n",
    "density_operator = state.to_operator()\n",
    "#print(density_operator.data)\n",
    "coherence = 0\n",
    "for i in range(8):\n",
    "    for j in range(8):\n",
    "        if(i != j):\n",
    "            coherence += abs(density_operator.data[i,j])\n",
    "print(\"coherence of |ψ5⟩ = \",coherence)\n",
    "'''\n",
    "qc.draw('mpl')"
   ]
  },
  {
   "cell_type": "code",
   "execution_count": null,
   "id": "28bcd85e",
   "metadata": {},
   "outputs": [],
   "source": []
  }
 ],
 "metadata": {
  "kernelspec": {
   "display_name": "Python 3 (ipykernel)",
   "language": "python",
   "name": "python3"
  },
  "language_info": {
   "codemirror_mode": {
    "name": "ipython",
    "version": 3
   },
   "file_extension": ".py",
   "mimetype": "text/x-python",
   "name": "python",
   "nbconvert_exporter": "python",
   "pygments_lexer": "ipython3",
   "version": "3.9.13"
  }
 },
 "nbformat": 4,
 "nbformat_minor": 5
}
